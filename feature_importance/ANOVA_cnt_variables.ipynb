{
 "cells": [
  {
   "cell_type": "markdown",
   "metadata": {},
   "source": [
    "# ANOVA for continuous variable feature selection\n"
   ]
  },
  {
   "cell_type": "markdown",
   "metadata": {},
   "source": [
    "Anova provides a comparison of the means of two groups."
   ]
  },
  {
   "cell_type": "code",
   "execution_count": 2,
   "metadata": {},
   "outputs": [],
   "source": [
    "import numpy as np\n",
    "import pandas as pd\n",
    "import matplotlib.pyplot as plt\n",
    "import seaborn as sns\n",
    "\n",
    "\n",
    "from sklearn.model_selection import train_test_split\n",
    "from sklearn.ensemble import RandomForestClassifier\n",
    "from sklearn.metrics import accuracy_score\n",
    "from sklearn.feature_selection import VarianceThreshold\n",
    "from sklearn.feature_selection import f_classif, f_regression\n",
    "from sklearn.feature_selection import SelectKBest, SelectPercentile\n",
    "\n"
   ]
  },
  {
   "cell_type": "code",
   "execution_count": 14,
   "metadata": {},
   "outputs": [
    {
     "name": "stdout",
     "output_type": "stream",
     "text": [
      "       Mean of the integrated profile  \\\n",
      "0                          121.156250   \n",
      "1                           76.968750   \n",
      "2                          130.585938   \n",
      "4                           84.804688   \n",
      "7                          109.406250   \n",
      "...                               ...   \n",
      "12522                      124.828125   \n",
      "12523                      124.312500   \n",
      "12525                      116.031250   \n",
      "12526                      135.664062   \n",
      "12527                      120.726562   \n",
      "\n",
      "       Standard deviation of the integrated profile  \\\n",
      "0                                         48.372971   \n",
      "1                                         36.175557   \n",
      "2                                         53.229534   \n",
      "4                                         36.117659   \n",
      "7                                         55.912521   \n",
      "...                                             ...   \n",
      "12522                                     50.586731   \n",
      "12523                                     53.179053   \n",
      "12525                                     43.213846   \n",
      "12526                                     49.933749   \n",
      "12527                                     50.472256   \n",
      "\n",
      "       Excess kurtosis of the integrated profile  \\\n",
      "0                                       0.375485   \n",
      "1                                       0.712898   \n",
      "2                                       0.133408   \n",
      "4                                       0.825013   \n",
      "7                                       0.565106   \n",
      "...                                          ...   \n",
      "12522                                   0.233563   \n",
      "12523                                  -0.012418   \n",
      "12525                                   0.663456   \n",
      "12526                                  -0.089940   \n",
      "12527                                   0.346178   \n",
      "\n",
      "       Skewness of the integrated profile  Mean of the DM-SNR curve  \\\n",
      "0                               -0.013165                  3.168896   \n",
      "1                                3.388719                  2.399666   \n",
      "2                               -0.297242                  2.743311   \n",
      "4                                3.274125                  2.790134   \n",
      "7                                0.056247                  2.797659   \n",
      "...                                   ...                       ...   \n",
      "12522                           -0.286908                  2.342809   \n",
      "12523                           -0.556021                  7.186455   \n",
      "12525                            0.433088                  0.785117   \n",
      "12526                           -0.226726                  3.859532   \n",
      "12527                            0.184797                  0.769231   \n",
      "\n",
      "       Standard deviation of the DM-SNR curve  \\\n",
      "0                                   18.399367   \n",
      "1                                   17.570997   \n",
      "2                                   22.362553   \n",
      "4                                   20.618009   \n",
      "7                                   19.496527   \n",
      "...                                       ...   \n",
      "12522                               13.949966   \n",
      "12523                               29.308266   \n",
      "12525                               11.628149   \n",
      "12526                               21.501505   \n",
      "12527                               11.792603   \n",
      "\n",
      "       Excess kurtosis of the DM-SNR curve  Skewness of the DM-SNR curve  \n",
      "0                                 7.449874                     65.159298  \n",
      "1                                 9.414652                    102.722975  \n",
      "2                                 8.508364                     74.031324  \n",
      "4                                 8.405008                     76.291128  \n",
      "7                                 9.443282                     97.374578  \n",
      "...                                    ...                           ...  \n",
      "12522                             9.226188                    117.308146  \n",
      "12523                             4.531382                     21.725143  \n",
      "12525                            17.055215                    312.204325  \n",
      "12526                             7.398395                     62.334018  \n",
      "12527                            17.662222                    329.548016  \n",
      "\n",
      "[9273 rows x 8 columns]\n"
     ]
    }
   ],
   "source": [
    "data = 'pulsar_data_train.csv'\n",
    "df = pd.read_csv(data)\n",
    "df.columns = df.columns.str.strip()\n",
    "df = df.dropna()\n",
    "\n",
    "X_train = df.iloc[:, :-1]\n",
    "y_train = df[\"target_class\"]\n",
    "\n",
    "print(X_train)\n"
   ]
  },
  {
   "cell_type": "markdown",
   "metadata": {},
   "source": [
    "# Initial data pruning.\n",
    "Much like from the feature selection book, we will remove any constant, quasi constant, and correlated features from our featureset\n"
   ]
  },
  {
   "cell_type": "code",
   "execution_count": 25,
   "metadata": {},
   "outputs": [
    {
     "name": "stdout",
     "output_type": "stream",
     "text": [
      "(9273, 8)\n",
      "(9273, 8)\n"
     ]
    }
   ],
   "source": [
    "const_feature = VarianceThreshold(threshold=0.01)\n",
    "const_feature.fit(X_train, y_train)\n",
    "\n",
    "X_train_new = const_feature.transform(X_train)\n",
    "#now compare the two feature sets\n",
    "print(X_train.shape)\n",
    "print(X_train_new.shape)\n",
    "\n",
    "#there are no quasi constant or constant features in the dataset\n"
   ]
  },
  {
   "cell_type": "code",
   "execution_count": 22,
   "metadata": {},
   "outputs": [
    {
     "data": {
      "text/plain": [
       "0"
      ]
     },
     "execution_count": 22,
     "metadata": {},
     "output_type": "execute_result"
    }
   ],
   "source": [
    "X_train.duplicated().sum()\n",
    "#no duplicate rows\n",
    "#can grab index of duplicated features if we use\n",
    "# dup = X_train.duplicated()\n",
    "# features_to_keep = [for index for index in dup]\n",
    "\n",
    "#this gives us a list of feautres for which they are unique. can be grabbed \n",
    "#from dataframe"
   ]
  },
  {
   "cell_type": "markdown",
   "metadata": {},
   "source": [
    "### Applying the F-test : ANOVA\n"
   ]
  },
  {
   "cell_type": "code",
   "execution_count": 27,
   "metadata": {},
   "outputs": [
    {
     "name": "stdout",
     "output_type": "stream",
     "text": [
      "[ 7794.21864257  1454.21624065 15482.64597577  9148.07850795\n",
      "  1841.09440076  2979.42155187  1666.61111384   663.47197755]\n",
      "[0.00000000e+000 1.04699406e-295 0.00000000e+000 0.00000000e+000\n",
      " 0.00000000e+000 0.00000000e+000 0.00000000e+000 2.26971319e-141]\n"
     ]
    }
   ],
   "source": [
    "fscore, pvalue = f_classif(X_train_new, y_train)\n",
    "print(fscore)\n",
    "print(pvalue)"
   ]
  },
  {
   "cell_type": "markdown",
   "metadata": {},
   "source": [
    "well this data is not good for this, so getting a new data set"
   ]
  },
  {
   "cell_type": "code",
   "execution_count": 31,
   "metadata": {},
   "outputs": [
    {
     "data": {
      "text/html": [
       "<div>\n",
       "<style scoped>\n",
       "    .dataframe tbody tr th:only-of-type {\n",
       "        vertical-align: middle;\n",
       "    }\n",
       "\n",
       "    .dataframe tbody tr th {\n",
       "        vertical-align: top;\n",
       "    }\n",
       "\n",
       "    .dataframe thead th {\n",
       "        text-align: right;\n",
       "    }\n",
       "</style>\n",
       "<table border=\"1\" class=\"dataframe\">\n",
       "  <thead>\n",
       "    <tr style=\"text-align: right;\">\n",
       "      <th></th>\n",
       "      <th>pregnancies</th>\n",
       "      <th>glucose</th>\n",
       "      <th>bloodpressure</th>\n",
       "      <th>skinthickness</th>\n",
       "      <th>insulin</th>\n",
       "      <th>bmi</th>\n",
       "      <th>diabetespedigreefunction</th>\n",
       "      <th>age</th>\n",
       "      <th>class</th>\n",
       "    </tr>\n",
       "  </thead>\n",
       "  <tbody>\n",
       "    <tr>\n",
       "      <td>0</td>\n",
       "      <td>6</td>\n",
       "      <td>148</td>\n",
       "      <td>72</td>\n",
       "      <td>35</td>\n",
       "      <td>0</td>\n",
       "      <td>33.6</td>\n",
       "      <td>0.627</td>\n",
       "      <td>50</td>\n",
       "      <td>1</td>\n",
       "    </tr>\n",
       "    <tr>\n",
       "      <td>1</td>\n",
       "      <td>1</td>\n",
       "      <td>85</td>\n",
       "      <td>66</td>\n",
       "      <td>29</td>\n",
       "      <td>0</td>\n",
       "      <td>26.6</td>\n",
       "      <td>0.351</td>\n",
       "      <td>31</td>\n",
       "      <td>0</td>\n",
       "    </tr>\n",
       "    <tr>\n",
       "      <td>2</td>\n",
       "      <td>8</td>\n",
       "      <td>183</td>\n",
       "      <td>64</td>\n",
       "      <td>0</td>\n",
       "      <td>0</td>\n",
       "      <td>23.3</td>\n",
       "      <td>0.672</td>\n",
       "      <td>32</td>\n",
       "      <td>1</td>\n",
       "    </tr>\n",
       "    <tr>\n",
       "      <td>3</td>\n",
       "      <td>1</td>\n",
       "      <td>89</td>\n",
       "      <td>66</td>\n",
       "      <td>23</td>\n",
       "      <td>94</td>\n",
       "      <td>28.1</td>\n",
       "      <td>0.167</td>\n",
       "      <td>21</td>\n",
       "      <td>0</td>\n",
       "    </tr>\n",
       "    <tr>\n",
       "      <td>4</td>\n",
       "      <td>0</td>\n",
       "      <td>137</td>\n",
       "      <td>40</td>\n",
       "      <td>35</td>\n",
       "      <td>168</td>\n",
       "      <td>43.1</td>\n",
       "      <td>2.288</td>\n",
       "      <td>33</td>\n",
       "      <td>1</td>\n",
       "    </tr>\n",
       "  </tbody>\n",
       "</table>\n",
       "</div>"
      ],
      "text/plain": [
       "   pregnancies  glucose  bloodpressure  skinthickness  insulin   bmi  \\\n",
       "0            6      148             72             35        0  33.6   \n",
       "1            1       85             66             29        0  26.6   \n",
       "2            8      183             64              0        0  23.3   \n",
       "3            1       89             66             23       94  28.1   \n",
       "4            0      137             40             35      168  43.1   \n",
       "\n",
       "   diabetespedigreefunction  age  class  \n",
       "0                     0.627   50      1  \n",
       "1                     0.351   31      0  \n",
       "2                     0.672   32      1  \n",
       "3                     0.167   21      0  \n",
       "4                     2.288   33      1  "
      ]
     },
     "execution_count": 31,
     "metadata": {},
     "output_type": "execute_result"
    }
   ],
   "source": [
    "df = pd.read_csv(\"pima-indians-diabetes.csv\")\n",
    "df.head()"
   ]
  },
  {
   "cell_type": "markdown",
   "metadata": {},
   "source": [
    "# Initial Pruning... Again\n"
   ]
  },
  {
   "cell_type": "code",
   "execution_count": 53,
   "metadata": {},
   "outputs": [
    {
     "name": "stdout",
     "output_type": "stream",
     "text": [
      "(514, 8)\n",
      "(514, 8)\n"
     ]
    }
   ],
   "source": [
    "const_feature = VarianceThreshold(threshold=0.01)\n",
    "X_train, X_test, y_train, y_test = train_test_split(df.iloc[:, :-1],\n",
    "                                                   df[\"class\"], test_size=0.33, random_state=1)\n",
    "const_feature.fit(X_train, y_train)\n",
    "X_train_new = const_feature.transform(X_train)\n",
    "\n",
    "print(X_train.shape)\n",
    "print(X_train_new.shape)"
   ]
  },
  {
   "cell_type": "markdown",
   "metadata": {},
   "source": [
    "Again, no features are eliminated from the original screening\n"
   ]
  },
  {
   "cell_type": "code",
   "execution_count": 54,
   "metadata": {},
   "outputs": [
    {
     "name": "stdout",
     "output_type": "stream",
     "text": [
      "[1.65273845e+01 1.31325562e+02 4.23711464e-02 1.41521551e+00\n",
      " 1.27789661e+01 4.92095231e+01 1.33771423e+01 2.51264397e+01]\n",
      "glucose                     3.189502e-27\n",
      "bmi                         7.317218e-12\n",
      "age                         7.409770e-07\n",
      "pregnancies                 5.549782e-05\n",
      "diabetespedigreefunction    2.810699e-04\n",
      "insulin                     3.837293e-04\n",
      "skinthickness               2.347439e-01\n",
      "bloodpressure               8.369957e-01\n",
      "dtype: float64\n"
     ]
    }
   ],
   "source": [
    "fscore, pvalue = f_classif(X_train_new, y_train)\n",
    "pvalue = pd.Series(pvalue)\n",
    "pvalue.index = df.drop(columns=[\"class\"]).columns\n",
    "print(fscore)\n",
    "print(pvalue.sort_values(ascending=True))"
   ]
  },
  {
   "cell_type": "markdown",
   "metadata": {},
   "source": [
    "Now writing a KNN classifier, lets see if the anova analysis of the features yields  better results when we take the k best features"
   ]
  },
  {
   "cell_type": "code",
   "execution_count": 55,
   "metadata": {},
   "outputs": [
    {
     "name": "stdout",
     "output_type": "stream",
     "text": [
      "The initial score with the original feature set: 0.7677165354330708\n",
      "The initial score with the original feature set: 0.7637795275590551\n"
     ]
    }
   ],
   "source": [
    "from sklearn.neighbors import KNeighborsClassifier\n",
    "clf = KNeighborsClassifier()\n",
    "clf.fit(X_train_new, y_train)\n",
    "\n",
    "print(f\"The initial score with the original feature set: {clf.score(X_test, y_test)}\")\n",
    "\n",
    "#now lets use the 3 best features\n",
    "df_new = df[[\"glucose\", \"bmi\", \"age\", \"class\"]]\n",
    "X_train, X_test, y_train, y_test = train_test_split(df_new.iloc[:, :-1],\n",
    "                                                   df[\"class\"], test_size=0.33, random_state=1)\n",
    "clf.fit(X_train, y_train)\n",
    "print(f\"The initial score with the original feature set: {clf.score(X_test, y_test)}\")"
   ]
  },
  {
   "cell_type": "markdown",
   "metadata": {},
   "source": [
    "We are seeing this is not making a result. lets try and engineer the features.\n",
    "Our tuning will use a grid search cross valdiation algorithm, and the number of features selected with be compared against the models accuracy"
   ]
  },
  {
   "cell_type": "code",
   "execution_count": 70,
   "metadata": {},
   "outputs": [
    {
     "name": "stdout",
     "output_type": "stream",
     "text": [
      "Best Mean Accuracy: 0.766\n",
      "Best Configuration: {'anova__k': 7}\n",
      ">1 0.732 (0.045)\n",
      ">2 0.752 (0.045)\n",
      ">3 0.761 (0.043)\n",
      ">4 0.747 (0.042)\n",
      ">5 0.749 (0.037)\n",
      ">6 0.752 (0.037)\n",
      ">7 0.761 (0.034)\n",
      ">8 0.757 (0.037)\n"
     ]
    },
    {
     "data": {
      "image/png": "[encoded data removed]",
      "text/plain": [
       "<Figure size 432x288 with 1 Axes>"
      ]
     },
     "metadata": {
      "needs_background": "light"
     },
     "output_type": "display_data"
    }
   ],
   "source": [
    "# compare different numbers of features selected using anova f-test\n",
    "from pandas import read_csv\n",
    "from sklearn.model_selection import RepeatedStratifiedKFold\n",
    "from sklearn.feature_selection import SelectKBest\n",
    "from sklearn.feature_selection import f_classif\n",
    "from sklearn.model_selection import cross_val_score\n",
    "from sklearn.linear_model import LogisticRegression\n",
    "from sklearn.pipeline import Pipeline\n",
    "from sklearn.model_selection import GridSearchCV\n",
    "from matplotlib import pyplot\n",
    "from numpy import mean\n",
    "from numpy import std\n",
    "\n",
    "X_train, X_test, y_train, y_test = train_test_split(df.iloc[:, :-1],\n",
    "                                                   df[\"class\"], test_size=0.33, random_state=1)\n",
    "\n",
    "\n",
    "cv = RepeatedStratifiedKFold(n_splits=10, n_repeats=3, random_state=1)\n",
    "model = LogisticRegression(solver=\"liblinear\")\n",
    "fs = SelectKBest(score_func=f_classif)\n",
    "pipeline = Pipeline(steps=[('anova', fs), ('lr', model)])\n",
    "\n",
    "#create the grid\n",
    "grid = dict()\n",
    "grid['anova__k'] = [i+1 for i in range(X_train.shape[1])]\n",
    "\n",
    "#define the grid search\n",
    "search = GridSearchCV(pipeline, grid, scoring='accuracy', n_jobs=-1, cv=cv)\n",
    "results = search.fit(X_train, y_train)\n",
    "print('Best Mean Accuracy: %.3f' % results.best_score_)\n",
    "print('Best Configuration: %s' % results.best_params_)\n",
    "\n",
    "#lets produce someboxplots with these\n",
    "results = []\n",
    "num_features = [i+1 for i in range(X_train.shape[1])]\n",
    "for k in range(X_train.shape[1]):\n",
    "    model = LogisticRegression(solver=\"liblinear\")\n",
    "    fs = SelectKBest(score_func=f_classif, k=k+1)\n",
    "    pipeline = Pipeline(steps=[('anova', fs), ('lr', model)])\n",
    "    \n",
    "    cv = RepeatedStratifiedKFold(n_splits=8, n_repeats=3, random_state=1)\n",
    "    scores = cross_val_score(pipeline, X_train, y_train, scoring='accuracy', cv=cv, n_jobs=-1, error_score='raise')\n",
    "    print('>%d %.3f (%.3f)' % (k+1, mean(scores), std(scores)))\n",
    "    results.append(scores)\n",
    "\n",
    "pyplot.boxplot(results, labels=num_features, showmeans=True)\n",
    "pyplot.show()\n",
    "    \n",
    "    \n",
    "    "
   ]
  }
 ],
 "metadata": {
  "kernelspec": {
   "display_name": "Python 3",
   "language": "python",
   "name": "python3"
  },
  "language_info": {
   "codemirror_mode": {
    "name": "ipython",
    "version": 3
   },
   "file_extension": ".py",
   "mimetype": "text/x-python",
   "name": "python",
   "nbconvert_exporter": "python",
   "pygments_lexer": "ipython3",
   "version": "3.7.4"
  }
 },
 "nbformat": 4,
 "nbformat_minor": 4
}
