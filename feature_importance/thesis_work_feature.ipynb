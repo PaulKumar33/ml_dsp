{
 "cells": [
  {
   "cell_type": "code",
   "execution_count": 2,
   "metadata": {},
   "outputs": [
    {
     "data": {
      "text/html": [
       "<div>\n",
       "<style scoped>\n",
       "    .dataframe tbody tr th:only-of-type {\n",
       "        vertical-align: middle;\n",
       "    }\n",
       "\n",
       "    .dataframe tbody tr th {\n",
       "        vertical-align: top;\n",
       "    }\n",
       "\n",
       "    .dataframe thead th {\n",
       "        text-align: right;\n",
       "    }\n",
       "</style>\n",
       "<table border=\"1\" class=\"dataframe\">\n",
       "  <thead>\n",
       "    <tr style=\"text-align: right;\">\n",
       "      <th></th>\n",
       "      <th>t1</th>\n",
       "      <th>t2</th>\n",
       "      <th>gr1</th>\n",
       "      <th>gr2</th>\n",
       "      <th>s1p1</th>\n",
       "      <th>s1p2</th>\n",
       "      <th>s2p1</th>\n",
       "      <th>s2p2</th>\n",
       "      <th>direction</th>\n",
       "    </tr>\n",
       "  </thead>\n",
       "  <tbody>\n",
       "    <tr>\n",
       "      <td>0</td>\n",
       "      <td>0</td>\n",
       "      <td>0</td>\n",
       "      <td>9999.000000</td>\n",
       "      <td>0.211863</td>\n",
       "      <td>9999.000000</td>\n",
       "      <td>9999.000000</td>\n",
       "      <td>1.379846</td>\n",
       "      <td>1.591709</td>\n",
       "      <td>no-left</td>\n",
       "    </tr>\n",
       "    <tr>\n",
       "      <td>1</td>\n",
       "      <td>0</td>\n",
       "      <td>0</td>\n",
       "      <td>9999.000000</td>\n",
       "      <td>0.666555</td>\n",
       "      <td>9999.000000</td>\n",
       "      <td>9999.000000</td>\n",
       "      <td>0.833855</td>\n",
       "      <td>1.500410</td>\n",
       "      <td>no-left</td>\n",
       "    </tr>\n",
       "    <tr>\n",
       "      <td>2</td>\n",
       "      <td>0</td>\n",
       "      <td>0</td>\n",
       "      <td>0.205575</td>\n",
       "      <td>0.524583</td>\n",
       "      <td>1.642306</td>\n",
       "      <td>1.847881</td>\n",
       "      <td>0.895598</td>\n",
       "      <td>1.420181</td>\n",
       "      <td>no-left</td>\n",
       "    </tr>\n",
       "    <tr>\n",
       "      <td>3</td>\n",
       "      <td>0</td>\n",
       "      <td>0</td>\n",
       "      <td>2.276674</td>\n",
       "      <td>0.295043</td>\n",
       "      <td>0.544720</td>\n",
       "      <td>2.821393</td>\n",
       "      <td>1.083164</td>\n",
       "      <td>1.378206</td>\n",
       "      <td>no-left</td>\n",
       "    </tr>\n",
       "    <tr>\n",
       "      <td>4</td>\n",
       "      <td>0</td>\n",
       "      <td>0</td>\n",
       "      <td>2.260734</td>\n",
       "      <td>0.585052</td>\n",
       "      <td>0.684987</td>\n",
       "      <td>2.945721</td>\n",
       "      <td>0.856547</td>\n",
       "      <td>1.441600</td>\n",
       "      <td>no-left</td>\n",
       "    </tr>\n",
       "  </tbody>\n",
       "</table>\n",
       "</div>"
      ],
      "text/plain": [
       "   t1  t2          gr1       gr2         s1p1         s1p2      s2p1  \\\n",
       "0   0   0  9999.000000  0.211863  9999.000000  9999.000000  1.379846   \n",
       "1   0   0  9999.000000  0.666555  9999.000000  9999.000000  0.833855   \n",
       "2   0   0     0.205575  0.524583     1.642306     1.847881  0.895598   \n",
       "3   0   0     2.276674  0.295043     0.544720     2.821393  1.083164   \n",
       "4   0   0     2.260734  0.585052     0.684987     2.945721  0.856547   \n",
       "\n",
       "       s2p2 direction  \n",
       "0  1.591709   no-left  \n",
       "1  1.500410   no-left  \n",
       "2  1.420181   no-left  \n",
       "3  1.378206   no-left  \n",
       "4  1.441600   no-left  "
      ]
     },
     "execution_count": 2,
     "metadata": {},
     "output_type": "execute_result"
    }
   ],
   "source": [
    "import pandas as pd\n",
    "\n",
    "df = pd.read_csv('direction_data.csv')\n",
    "df = df.fillna(9999)\n",
    "df.head()"
   ]
  },
  {
   "cell_type": "markdown",
   "metadata": {},
   "source": [
    "# Mutual Information and ANOVA Test"
   ]
  },
  {
   "cell_type": "code",
   "execution_count": 5,
   "metadata": {},
   "outputs": [
    {
     "name": "stderr",
     "output_type": "stream",
     "text": [
      "C:\\Users\\paulk\\Anaconda3\\lib\\site-packages\\sklearn\\feature_selection\\univariate_selection.py:115: RuntimeWarning: divide by zero encountered in true_divide\n",
      "  f = msb / msw\n"
     ]
    },
    {
     "name": "stdout",
     "output_type": "stream",
     "text": [
      "t1      0.000000e+00\n",
      "t2      0.000000e+00\n",
      "s2p1    2.367260e-13\n",
      "s2p2    2.388697e-13\n",
      "gr2     2.420297e-13\n",
      "gr1     5.478490e-07\n",
      "s1p2    5.544743e-07\n",
      "s1p1    5.641881e-07\n",
      "dtype: float64\n",
      ">1 0.623 (0.030)\n",
      ">1 0.647 (0.153)\n",
      ">2 1.000 (0.000)\n",
      ">2 0.827 (0.128)\n",
      ">3 0.992 (0.028)\n",
      ">3 0.872 (0.130)\n",
      ">4 0.993 (0.025)\n",
      ">4 0.912 (0.112)\n",
      ">5 0.990 (0.030)\n",
      ">5 0.933 (0.118)\n",
      ">6 0.989 (0.033)\n",
      ">6 0.961 (0.087)\n",
      ">7 0.990 (0.030)\n",
      ">7 0.997 (0.018)\n",
      ">8 0.990 (0.030)\n",
      ">8 0.989 (0.033)\n"
     ]
    },
    {
     "data": {
      "image/png": "[encoded data removed]",
      "text/plain": [
       "<Figure size 432x288 with 1 Axes>"
      ]
     },
     "metadata": {
      "needs_background": "light"
     },
     "output_type": "display_data"
    },
    {
     "data": {
      "image/png": "[encoded data removed]",
      "text/plain": [
       "<Figure size 432x288 with 1 Axes>"
      ]
     },
     "metadata": {
      "needs_background": "light"
     },
     "output_type": "display_data"
    },
    {
     "name": "stdout",
     "output_type": "stream",
     "text": [
      "Best features according to mutual information gain\n",
      "s1p2    0.404306\n",
      "s1p1    0.637685\n",
      "gr1     0.653825\n",
      "s2p2    0.699089\n",
      "t1      0.699587\n",
      "s2p1    0.732392\n",
      "t2      0.750189\n",
      "gr2     0.832550\n",
      "dtype: float64\n"
     ]
    }
   ],
   "source": [
    "from sklearn.pipeline import Pipeline\n",
    "from sklearn.model_selection import GridSearchCV\n",
    "from sklearn.model_selection import RepeatedStratifiedKFold\n",
    "from sklearn.feature_selection import SelectKBest\n",
    "from sklearn.tree import DecisionTreeClassifier\n",
    "from sklearn.feature_selection import f_classif\n",
    "from sklearn.model_selection import cross_val_score\n",
    "from sklearn.feature_selection import mutual_info_classif\n",
    "from sklearn.neighbors import KNeighborsClassifier\n",
    "import matplotlib.pyplot as plt\n",
    "from numpy import mean\n",
    "from numpy import std\n",
    "\n",
    "x = df.drop(columns=['direction'])\n",
    "y = df['direction']\n",
    "model = DecisionTreeClassifier()\n",
    "\n",
    "#ANOVA TEST\n",
    "fscore, pval = f_classif(x,y)\n",
    "pval = pd.Series(pval)\n",
    "\n",
    "pval.index = x.columns\n",
    "print(pval.sort_values(ascending=True))\n",
    "\n",
    "results_anova = []\n",
    "results_mi = []\n",
    "num_features = [i+1 for i in range(x.shape[1])]\n",
    "for k in range(x.shape[1]):\n",
    "    fs = SelectKBest(score_func=f_classif, k=k+1)\n",
    "    pipeline = Pipeline(steps=[('anova', fs), (\"lr\", model)])\n",
    "    \n",
    "    cv = RepeatedStratifiedKFold(n_splits=10, n_repeats=3, random_state=1)\n",
    "    scores_a = cross_val_score(pipeline, x, y, scoring='accuracy', cv=cv, n_jobs=-1, error_score='raise')\n",
    "    print('>%d %.3f (%.3f)' % (k+1, mean(scores_a), std(scores_a)))\n",
    "    \n",
    "    fs = SelectKBest(score_func=mutual_info_classif, k=k+1)\n",
    "    pipeline = Pipeline(steps=[('mutual_information', fs), (\"lr\", model)])\n",
    "    scores_m = cross_val_score(pipeline, x, y, scoring='accuracy', cv=cv, n_jobs=-1, error_score='raise')\n",
    "    print('>%d %.3f (%.3f)' % (k+1, mean(scores_m), std(scores_m)))\n",
    "    results_anova.append(scores_a)\n",
    "    results_mi.append(scores_m)\n",
    "\n",
    "plt.figure(0)\n",
    "plt.boxplot(results_anova, labels=num_features, showmeans=True)\n",
    "plt.title(\"Anova results\")\n",
    "plt.xlabel(\"Number of features\")\n",
    "plt.ylabel(\"Accuracy\")\n",
    "\n",
    "#plt.hold(True)\n",
    "plt.figure(1)\n",
    "plt.boxplot(results_mi, labels=num_features, showmeans=True)\n",
    "plt.title(\"Mutual Information results\")\n",
    "plt.xlabel(\"Number of features\")\n",
    "plt.ylabel(\"Accuracy\")\n",
    "plt.show()\n",
    "\n",
    "#grabbing the best features according to mutual information\n",
    "#from the plot best median results occurr with 3 features\n",
    "\n",
    "clf = mutual_info_classif(x,y,random_state=1)\n",
    "clf = pd.Series(clf)\n",
    "clf.index = x.columns\n",
    "\n",
    "print(\"Best features according to mutual information gain\")\n",
    "print(clf.sort_values(ascending=True))"
   ]
  },
  {
   "cell_type": "markdown",
   "metadata": {},
   "source": [
    "# GridSearch CV to confirm the results given the best feature set\n",
    "\n",
    "Mutual information may not be totally worthwhile metric to find the best results, as triggers may show very similar information. However we see form the anova analysis, they are the most statistically significant when it comes to classification accuracy using the two sensor system."
   ]
  },
  {
   "cell_type": "code",
   "execution_count": 27,
   "metadata": {},
   "outputs": [
    {
     "name": "stdout",
     "output_type": "stream",
     "text": [
      "Best Mean Accuracy: 1.000\n",
      "Best Configuration: {'anova__k': 2}\n"
     ]
    },
    {
     "name": "stderr",
     "output_type": "stream",
     "text": [
      "C:\\Users\\paulk\\Anaconda3\\lib\\site-packages\\sklearn\\model_selection\\_search.py:814: DeprecationWarning: The default of the `iid` parameter will change from True to False in version 0.22 and will be removed in 0.24. This will change numeric results when test-set sizes are unequal.\n",
      "  DeprecationWarning)\n",
      "C:\\Users\\paulk\\Anaconda3\\lib\\site-packages\\sklearn\\feature_selection\\univariate_selection.py:115: RuntimeWarning: divide by zero encountered in true_divide\n",
      "  f = msb / msw\n",
      "C:\\Users\\paulk\\Anaconda3\\lib\\site-packages\\sklearn\\linear_model\\logistic.py:469: FutureWarning: Default multi_class will be changed to 'auto' in 0.22. Specify the multi_class option to silence this warning.\n",
      "  \"this warning.\", FutureWarning)\n"
     ]
    }
   ],
   "source": [
    "from sklearn.linear_model import LogisticRegression\n",
    "\n",
    "cv = RepeatedStratifiedKFold(n_splits=10, n_repeats=3, random_state=1)\n",
    "model = LogisticRegression(solver=\"liblinear\")\n",
    "fs = SelectKBest(score_func=f_classif)\n",
    "pipeline = Pipeline(steps=[('anova', fs), ('lr', model)])\n",
    "\n",
    "#create the grid\n",
    "grid = dict()\n",
    "grid['anova__k'] = [i+1 for i in range(x.shape[1])]\n",
    "\n",
    "#define the grid search\n",
    "search = GridSearchCV(pipeline, grid, scoring='accuracy', n_jobs=-1, cv=cv)\n",
    "results = search.fit(x, y)\n",
    "print('Best Mean Accuracy: %.3f' % results.best_score_)\n",
    "print('Best Configuration: %s' % results.best_params_)"
   ]
  },
  {
   "cell_type": "markdown",
   "metadata": {},
   "source": [
    "grid search confirms the results. Using the trigger features we achieve the best classification results."
   ]
  }
 ],
 "metadata": {
  "kernelspec": {
   "display_name": "Python 3",
   "language": "python",
   "name": "python3"
  },
  "language_info": {
   "codemirror_mode": {
    "name": "ipython",
    "version": 3
   },
   "file_extension": ".py",
   "mimetype": "text/x-python",
   "name": "python",
   "nbconvert_exporter": "python",
   "pygments_lexer": "ipython3",
   "version": "3.7.4"
  }
 },
 "nbformat": 4,
 "nbformat_minor": 4
}
