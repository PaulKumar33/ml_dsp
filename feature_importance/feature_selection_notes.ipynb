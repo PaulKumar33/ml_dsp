{
 "cells": [
  {
   "cell_type": "markdown",
   "metadata": {},
   "source": [
    "# 1. Basic filtering methods\n",
    "## 1.1 Variance\n",
    "the variance method filters features by removing features with zero variance. these features provide us with no information\n",
    "\n",
    "This is straightforward, no code example is given. SKlearn does have a library function"
   ]
  },
  {
   "cell_type": "code",
   "execution_count": 3,
   "metadata": {},
   "outputs": [],
   "source": [
    "from sklearn.feature_selection import VarianceThreshold\n",
    "sel = VarianceThreshold(threshold=0)\n",
    "\n",
    "#can use sel.fit() on training data"
   ]
  },
  {
   "cell_type": "markdown",
   "metadata": {},
   "source": [
    "## 1.2 Quasi constant features\n",
    "quasi constant features are those with very low variance. This is again straight forward. for example, set the treshold to 0.02"
   ]
  },
  {
   "cell_type": "markdown",
   "metadata": {},
   "source": [
    "# 2. Univariate Methods\n",
    "## 2.1 Select K best\n",
    "the select k best method selects the k best scores from a statistical test. for example, if we are using the chi2 method for determining feature significiance the k best statistics would be chosen as the feature set\n",
    "### Example using Iris data\n"
   ]
  },
  {
   "cell_type": "code",
   "execution_count": 5,
   "metadata": {},
   "outputs": [
    {
     "name": "stdout",
     "output_type": "stream",
     "text": [
      "(150, 4)\n",
      "The predicted accuracy: 0.9666666666666667\n",
      "(150, 3)\n",
      "[4.47651499e-03 1.56395980e-01 5.53397228e-26 2.75824965e-15]\n",
      "The predicted accuracy: 0.9733333333333334\n"
     ]
    }
   ],
   "source": [
    "from sklearn.datasets import load_iris\n",
    "from sklearn.feature_selection import SelectKBest, chi2\n",
    "from sklearn.neighbors import KNeighborsClassifier\n",
    "X, y = load_iris(return_X_y=True)\n",
    "print(X.shape)\n",
    "\n",
    "#before the feature selection via chi2\n",
    "clf = KNeighborsClassifier()\n",
    "clf.fit(X, y)\n",
    "print(\"The predicted accuracy: {0}\".format(clf.score(X,y)))\n",
    "\n",
    "\n",
    "# select the two best features\n",
    "X_new = SelectKBest(chi2, k=3).fit_transform(X, y)\n",
    "print(X_new.shape)\n",
    "\n",
    "#here we can also use th chi2 test to show significance\n",
    "fscore, p = chi2(X, y)\n",
    "print(p)\n",
    "\n",
    "#now compare the classification rate\n",
    "from sklearn.neighbors import KNeighborsClassifier\n",
    "clf.fit(X_new, y)\n",
    "\n",
    "print(\"The predicted accuracy: {0}\".format(clf.score(X_new,y)))\n",
    "#print(clf.predict_proba(X))"
   ]
  },
  {
   "cell_type": "markdown",
   "metadata": {},
   "source": [
    "We can see that 2 features are very significant. These could maybe improve the classification methods. \n",
    "\n",
    "Using the 3 desired features can actually improve the accuracy of the model"
   ]
  },
  {
   "cell_type": "markdown",
   "metadata": {},
   "source": [
    "## 2.2 Select Precentile\n",
    "Selects features based on a percentage of the highest scores. Very similar to k best...."
   ]
  },
  {
   "cell_type": "code",
   "execution_count": null,
   "metadata": {},
   "outputs": [],
   "source": [
    "from sklearn.datasets import load_digits\n",
    "from sklearn.feature_selection import SelectPercentile, chi2"
   ]
  },
  {
   "cell_type": "markdown",
   "metadata": {},
   "source": [
    "# Mutual information.\n",
    "A measure of dependence of the features. Independent variables will have no mutual informations \n",
    "Dependent variables wil share a lot of information\n",
    "\n"
   ]
  },
  {
   "cell_type": "markdown",
   "metadata": {},
   "source": [
    "## Mutual information classifier"
   ]
  },
  {
   "cell_type": "code",
   "execution_count": 25,
   "metadata": {},
   "outputs": [
    {
     "data": {
      "text/plain": [
       "array([0.46644605, 0.27333904, 0.97748796, 1.00047169])"
      ]
     },
     "execution_count": 25,
     "metadata": {},
     "output_type": "execute_result"
    }
   ],
   "source": [
    "from sklearn.feature_selection import mutual_info_classif\n",
    "clf = mutual_info_classif(X, y, random_state=101)\n",
    "\n",
    "clf"
   ]
  },
  {
   "cell_type": "markdown",
   "metadata": {},
   "source": [
    "The above code gives us a mutual information score. From this we can see that the most information provided about the iris flow class is given in feature 0, 2, and 3.\n",
    "\n",
    "K select can also be used for larger datasets. lets generate a dataset and use the selectKBest scikit learn model to select the k best models."
   ]
  },
  {
   "cell_type": "code",
   "execution_count": 60,
   "metadata": {},
   "outputs": [
    {
     "name": "stdout",
     "output_type": "stream",
     "text": [
      "(1000, 20)\n"
     ]
    }
   ],
   "source": [
    "from sklearn.model_selection import train_test_split\n",
    "from sklearn.feature_selection import SelectKBest\n",
    "from sklearn.feature_selection import mutual_info_classif\n",
    "from sklearn.linear_model import LogisticRegression\n",
    "from sklearn.metrics import accuracy_score\n",
    "from sklearn.datasets import make_classification \n",
    "from sklearn.feature_selection import VarianceThreshold\n",
    "\n",
    "import pandas as pd\n",
    "\n",
    "\n",
    "#lets make a dataset where we can test a few methods of data scrapping from\n",
    "x,y = make_classification(n_samples=1000, n_features=20, n_informative=10, n_redundant=10, random_state=1)\n",
    "labels = [f\"f{i+1}\" for i in range(20)]\n",
    "\n",
    "x = pd.DataFrame(x, columns=labels)\n",
    "\n",
    "#lets apply the constant and quasi constant variance filtering method to remove\n",
    "# some of the redudant features\n",
    "\n",
    "sel = VarianceThreshold(threshold=0.01)\n",
    "sel.fit(x,y)\n",
    "\n",
    "x = sel.transform(x)\n",
    "print(x.shape)\n",
    "\n"
   ]
  },
  {
   "cell_type": "markdown",
   "metadata": {},
   "source": [
    "# Example 2.1 Continuous Data feature selction\n",
    "\n",
    "THe methods we are going to use are ANOVA analysis and mutual information. First lets use the analysis of variance and then mutual information"
   ]
  },
  {
   "cell_type": "markdown",
   "metadata": {},
   "source": [
    "## ANOVA\n",
    "validation pipeline will be used against a standard KNN model\n"
   ]
  },
  {
   "cell_type": "code",
   "execution_count": 61,
   "metadata": {},
   "outputs": [
    {
     "name": "stdout",
     "output_type": "stream",
     "text": [
      "ANOVA Results\n",
      "         f1        f2        f3        f4        f5        f6        f7  \\\n",
      "0 -5.091809  0.629824 -1.566375 -1.241598  0.841560 -0.886274 -0.065181   \n",
      "1  1.791420  1.532285  2.155000  0.205158 -1.569024  4.305629  3.731473   \n",
      "2 -7.570856 -0.292097 -3.634720 -5.367011 -0.116225 -0.341281  1.433913   \n",
      "3  1.319367  0.611212 -1.014426  1.382305  3.061678 -0.329622 -0.720466   \n",
      "4  0.956191  2.022438  2.471029  3.649059  1.464519  5.834790  0.418345   \n",
      "\n",
      "         f8        f9       f10       f11       f12       f13       f14  \\\n",
      "0 -6.486613 -0.561925 -0.294076  2.274556  3.703470  1.656175  3.693484   \n",
      "1  0.569103  0.112509 -0.853574 -2.655037 -0.164859 -2.531568 -2.309997   \n",
      "2  0.314159 -5.003134 -0.328831 -0.577210 -0.904928 -3.394605 -0.948612   \n",
      "3  3.193088 -0.513515 -0.856397 -1.176688 -2.615865 -1.532934  0.592187   \n",
      "4 -0.814510  4.961980  0.932028  1.047358  0.661785 -1.090045 -0.834592   \n",
      "\n",
      "        f15       f16       f17       f18       f19       f20  \n",
      "0  5.260814  1.171818  2.505769 -5.751397 -1.266330  1.380035  \n",
      "1  2.349418  1.401072  3.335488 -3.362344  1.542809  1.451202  \n",
      "2 -5.379487 -1.534006  0.423978 -4.343972 -1.961209  3.262950  \n",
      "3 -3.709988 -2.131182 -0.356519  7.128145 -1.370217 -0.646008  \n",
      "4  8.319191  3.934638  2.827691 -0.655316  0.235959  0.660857  \n",
      "f13    1.417989e-53\n",
      "f7     3.644595e-49\n",
      "f6     1.641283e-44\n",
      "f2     4.081368e-20\n",
      "f10    5.314487e-13\n",
      "f12    1.378787e-12\n",
      "f18    3.556352e-12\n",
      "f14    6.175257e-08\n",
      "f19    3.269917e-06\n",
      "f5     9.781925e-05\n",
      "f17    2.681694e-03\n",
      "f8     1.070341e-01\n",
      "f4     1.650637e-01\n",
      "f1     1.673328e-01\n",
      "f3     1.746807e-01\n",
      "f15    2.204975e-01\n",
      "f11    5.990030e-01\n",
      "f9     7.115009e-01\n",
      "f16    7.972452e-01\n",
      "f20    9.084046e-01\n",
      "dtype: float64\n",
      ">1 0.664 (0.046)\n",
      ">2 0.777 (0.040)\n",
      ">3 0.779 (0.043)\n",
      ">4 0.804 (0.047)\n",
      ">5 0.839 (0.052)\n",
      ">6 0.867 (0.040)\n",
      ">7 0.879 (0.033)\n",
      ">8 0.888 (0.035)\n",
      ">9 0.900 (0.031)\n",
      ">10 0.917 (0.029)\n",
      ">11 0.910 (0.033)\n",
      ">12 0.909 (0.033)\n",
      ">13 0.913 (0.032)\n",
      ">14 0.916 (0.033)\n",
      ">15 0.920 (0.031)\n",
      ">16 0.922 (0.029)\n",
      ">17 0.922 (0.030)\n",
      ">18 0.925 (0.029)\n",
      ">19 0.927 (0.029)\n",
      ">20 0.927 (0.029)\n"
     ]
    },
    {
     "data": {
      "image/png": "[encoded data removed]",
      "text/plain": [
       "<Figure size 432x288 with 1 Axes>"
      ]
     },
     "metadata": {
      "needs_background": "light"
     },
     "output_type": "display_data"
    }
   ],
   "source": [
    "from sklearn.pipeline import Pipeline\n",
    "from sklearn.model_selection import GridSearchCV\n",
    "from sklearn.model_selection import RepeatedStratifiedKFold\n",
    "from sklearn.feature_selection import SelectKBest\n",
    "from sklearn.feature_selection import f_classif\n",
    "from sklearn.model_selection import cross_val_score\n",
    "from sklearn.neighbors import KNeighborsClassifier\n",
    "from numpy import mean\n",
    "from numpy import std\n",
    "model = KNeighborsClassifier()\n",
    "\n",
    "#lets first take anova of all the measurements\n",
    "fscore, pvalue = f_classif(x, y)\n",
    "print(f\"ANOVA Results\")\n",
    "pvalue = pd.Series(pvalue)\n",
    "labels = [f\"f{i+1}\" for i in range(20)]\n",
    "\n",
    "x = pd.DataFrame(x, columns=labels)\n",
    "print(x.head())\n",
    "pvalue.index = x.columns\n",
    "print(pvalue.sort_values(ascending=True))\n",
    "results = []\n",
    "num_features = [i+1 for i in range(x.shape[1])]\n",
    "\n",
    "for k in range(x.shape[1]):\n",
    "    '''fs = SelectKBest(score_func=f_classif, k=k+1)\n",
    "    pipeline = Pipeline(steps=[('anova', fs), ('lr', model)])'''\n",
    "    fs = SelectKBest(score_func=f_classif, k=k+1)\n",
    "    pipeline = Pipeline(steps=[('anova', fs), (\"knn\", model)])\n",
    "    \n",
    "    cv = RepeatedStratifiedKFold(n_splits=10, n_repeats=3, random_state=1)\n",
    "    scores = cross_val_score(pipeline, x, y, scoring='accuracy', cv=cv, n_jobs=-1, error_score='raise')\n",
    "    print('>%d %.3f (%.3f)' % (k+1, mean(scores), std(scores)))\n",
    "    results.append(scores)\n",
    "\n",
    "import matplotlib.pyplot as plt\n",
    "plt.boxplot(results, labels=num_features, showmeans=True)\n",
    "plt.show()\n",
    "    \n",
    "\n",
    "\n"
   ]
  },
  {
   "cell_type": "markdown",
   "metadata": {},
   "source": [
    "### Removing redudancies\n",
    "\n",
    "We know from our dataset that there are 5 useless features. However, from our anova analysis, we see from the box and whisker plots we still achieve highest accuracy when all the features are included. Lets see if we can filter the useless ones out\n",
    "\n",
    "From our anova analysis in the previous case, we see f11, f2, f3, f9, f8 are all uselss. Lets try and get rid of those by filtering out redundancies\n"
   ]
  },
  {
   "cell_type": "code",
   "execution_count": 62,
   "metadata": {},
   "outputs": [
    {
     "name": "stdout",
     "output_type": "stream",
     "text": [
      ">1 0.664 (0.046)\n",
      ">2 0.777 (0.040)\n",
      ">3 0.779 (0.043)\n",
      ">4 0.804 (0.047)\n",
      ">5 0.839 (0.052)\n",
      ">6 0.867 (0.040)\n",
      ">7 0.879 (0.033)\n",
      ">8 0.888 (0.035)\n",
      ">9 0.900 (0.031)\n",
      ">10 0.917 (0.029)\n",
      ">11 0.910 (0.033)\n"
     ]
    },
    {
     "data": {
      "image/png": "[encoded data removed]",
      "text/plain": [
       "<Figure size 432x288 with 1 Axes>"
      ]
     },
     "metadata": {
      "needs_background": "light"
     },
     "output_type": "display_data"
    }
   ],
   "source": [
    "x = x.drop(columns=[\"f11\", 'f3', 'f9', 'f8', 'f4', 'f1', 'f15', 'f16', 'f20'])\n",
    "\n",
    "#now lets pass this through and anova pipeline again and evaluate the results\n",
    "results = []\n",
    "num_features = [i+1 for i in range(x.shape[1])]\n",
    "\n",
    "for k in range(x.shape[1]):\n",
    "    '''fs = SelectKBest(score_func=f_classif, k=k+1)\n",
    "    pipeline = Pipeline(steps=[('anova', fs), ('lr', model)])'''\n",
    "    fs = SelectKBest(score_func=f_classif, k=k+1)\n",
    "    pipeline = Pipeline(steps=[('anova', fs), (\"knn\", model)])\n",
    "    \n",
    "    cv = RepeatedStratifiedKFold(n_splits=10, n_repeats=3, random_state=1)\n",
    "    scores = cross_val_score(pipeline, x, y, scoring='accuracy', cv=cv, n_jobs=-1, error_score='raise')\n",
    "    print('>%d %.3f (%.3f)' % (k+1, mean(scores), std(scores)))\n",
    "    results.append(scores)\n",
    "\n",
    "plt.boxplot(results, labels=num_features, showmeans=True)\n",
    "plt.show()"
   ]
  },
  {
   "cell_type": "markdown",
   "metadata": {},
   "source": [
    "We see the selectKBest truely selected the best features. However what should be noted is the variance of the accuracy was the lowest at 10 features, as we have 10 features of value. The additional features are adding very little value"
   ]
  },
  {
   "cell_type": "markdown",
   "metadata": {},
   "source": [
    "# Mutual Information\n",
    "The same process can be done by utilizing the mutual information metric. Mutual information is a measure of entropy, comparing the uncertainty between groups. If we get a mutual information alue of 0, it means the groups are totally inependent of eachother and there is no shared information. Larger values show shared dependence"
   ]
  },
  {
   "cell_type": "code",
   "execution_count": 71,
   "metadata": {},
   "outputs": [
    {
     "data": {
      "image/png": "[encoded data removed]",
      "text/plain": [
       "<Figure size 432x288 with 1 Axes>"
      ]
     },
     "metadata": {
      "needs_background": "light"
     },
     "output_type": "display_data"
    }
   ],
   "source": [
    "x,y = make_classification(n_samples=1000, n_features=20, n_informative=10, n_redundant=10, random_state=1)\n",
    "labels = [f\"f{i+1}\" for i in range(20)]\n",
    "x = pd.DataFrame(x, columns=labels)\n",
    "\n",
    "clf = mutual_info_classif(x, y, random_state=1)\n",
    "clf = pd.Series(clf)\n",
    "\n",
    "clf.index = x.columns\n",
    "#print(clf.sort_values(ascending=True))\n",
    "\n",
    "results = []\n",
    "num_features = [i+1 for i in range(x.shape[1])]\n",
    "\n",
    "for k in range(x.shape[1]):\n",
    "    fs = SelectKBest(score_func=mutual_info_classif, k=k+1)\n",
    "    pipeline = Pipeline(steps=[('mutual_information', fs), (\"knn\", model)])\n",
    "    \n",
    "    cv = RepeatedStratifiedKFold(n_splits=10, n_repeats=3, random_state=1)\n",
    "    scores = cross_val_score(pipeline, x, y, scoring='accuracy', cv=cv, n_jobs=-1, error_score='raise')\n",
    "    #print('>%d %.3f (%.3f)' % (k+1, mean(scores), std(scores)))\n",
    "    results.append(scores)\n",
    "\n",
    "plt.boxplot(results, labels=num_features, showmeans=True)\n",
    "plt.show()"
   ]
  },
  {
   "cell_type": "code",
   "execution_count": null,
   "metadata": {},
   "outputs": [],
   "source": []
  }
 ],
 "metadata": {
  "kernelspec": {
   "display_name": "Python 3 (ipykernel)",
   "language": "python",
   "name": "python3"
  },
  "language_info": {
   "codemirror_mode": {
    "name": "ipython",
    "version": 3
   },
   "file_extension": ".py",
   "mimetype": "text/x-python",
   "name": "python",
   "nbconvert_exporter": "python",
   "pygments_lexer": "ipython3",
   "version": "3.9.5"
  }
 },
 "nbformat": 4,
 "nbformat_minor": 4
}
