{
 "cells": [
  {
   "cell_type": "code",
   "execution_count": 3,
   "id": "f2232f95",
   "metadata": {},
   "outputs": [
    {
     "name": "stdout",
     "output_type": "stream",
     "text": [
      "(array([ 44.81966028, 910.06995304, 629.11038668]), array([[ 0.6487899 , -0.65580225, -0.3859988 ],\n",
      "       [-0.74104991, -0.4291978 , -0.51636642],\n",
      "       [-0.17296443, -0.62105769,  0.7644414 ]]))\n"
     ]
    }
   ],
   "source": [
    "import numpy as np\n",
    "import matplotlib.pyplot as plt\n",
    "import seaborn as sns\n",
    "\n",
    "#first lets confirm eig function\n",
    "a = np.array([[504, 360, 180],[360, 360, 0],[180, 0, 720]])\n",
    "print(np.linalg.eig(a))"
   ]
  },
  {
   "cell_type": "code",
   "execution_count": 82,
   "id": "6e845c6f",
   "metadata": {},
   "outputs": [
    {
     "name": "stdout",
     "output_type": "stream",
     "text": [
      "Total trace: 9.000000000000004\n",
      "Total variance explained by feature 1 and 2: 0.9632310098091431\n"
     ]
    },
    {
     "data": {
      "text/plain": [
       "<matplotlib.collections.PathCollection at 0x192b8d7caf0>"
      ]
     },
     "execution_count": 82,
     "metadata": {},
     "output_type": "execute_result"
    },
    {
     "data": {
      "image/png": "[encoded data removed]",
      "text/plain": [
       "<Figure size 432x288 with 1 Axes>"
      ]
     },
     "metadata": {
      "needs_background": "light"
     },
     "output_type": "display_data"
    }
   ],
   "source": [
    "# create the data - for now hard code the process\n",
    "a = np.array([[90, 60, 90], [90, 90, 30], [60, 60, 60], [60, 60, 90], [30, 30, 30]])\n",
    "a2 = np.array([[90, 60, 90], [90, 90, 30], [60, 60, 60], [60, 60, 90], [30, 30, 30]])\n",
    "\n",
    "r, c = a.shape\n",
    "mu = [np.mean(a[:, i]) for i in range(c)]\n",
    "std = [np.std(a[:, i]) for i in range(c)]\n",
    "\n",
    "for i in range(c):\n",
    "    a2[:,i] = (a2[:, i] - mu[i])/std[i]\n",
    "cov2 = np.matmul(a2.T, a2)\n",
    "\n",
    "#now calculate the covariance between columns\n",
    "cov = np.zeros((c,c))\n",
    "for i in range(c):\n",
    "    for k in range(c):\n",
    "        p1 = (a[:, i] - mu[i])*(a[:, k] - mu[k])\n",
    "        cov[i,k] = np.sum(p1)/(r)\n",
    "#once covariance is calculated, calculates eigs\n",
    "\n",
    "eval_, evect_ = np.linalg.eig(cov2) \n",
    "eval_sort, evect_sort = sorted(eval_, reverse=True), np.zeros((c,c))\n",
    "\n",
    "for i in range(len(eval_sort)):\n",
    "    evect_sort[:,i] = evect_[:, np.where(eval_ == eval_sort[i])[0][0]]\n",
    "    \n",
    "print(\"Total trace: \"+str(np.sum(eval_)))\n",
    "print(\"Total variance explained by feature 1 and 2: \"+str(np.sum(eval_sort[0:2])/np.sum(eval_)))\n",
    "#now take the k vectors. here set k to 2\n",
    "#collect the 2d points\n",
    "\n",
    "pts = []\n",
    "for i in range(r):\n",
    "    pts.append(np.matmul(evect_sort[:, 0:2].T, a[i, :]))\n",
    "pts = np.array(pts)\n",
    "plt.scatter(pts[:,0], pts[:,1])\n",
    "\n"
   ]
  },
  {
   "cell_type": "code",
   "execution_count": 40,
   "id": "4ccdafb6",
   "metadata": {},
   "outputs": [
    {
     "data": {
      "text/plain": [
       "540"
      ]
     },
     "execution_count": 40,
     "metadata": {},
     "output_type": "execute_result"
    }
   ],
   "source": [
    "180*3"
   ]
  }
 ],
 "metadata": {
  "kernelspec": {
   "display_name": "Python 3 (ipykernel)",
   "language": "python",
   "name": "python3"
  },
  "language_info": {
   "codemirror_mode": {
    "name": "ipython",
    "version": 3
   },
   "file_extension": ".py",
   "mimetype": "text/x-python",
   "name": "python",
   "nbconvert_exporter": "python",
   "pygments_lexer": "ipython3",
   "version": "3.9.5"
  }
 },
 "nbformat": 4,
 "nbformat_minor": 5
}
